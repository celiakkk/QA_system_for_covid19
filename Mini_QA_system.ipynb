{
 "cells": [
  {
   "cell_type": "code",
   "execution_count": 1,
   "metadata": {},
   "outputs": [
    {
     "data": {
      "text/html": [
       "<div>\n",
       "<style scoped>\n",
       "    .dataframe tbody tr th:only-of-type {\n",
       "        vertical-align: middle;\n",
       "    }\n",
       "\n",
       "    .dataframe tbody tr th {\n",
       "        vertical-align: top;\n",
       "    }\n",
       "\n",
       "    .dataframe thead th {\n",
       "        text-align: right;\n",
       "    }\n",
       "</style>\n",
       "<table border=\"1\" class=\"dataframe\">\n",
       "  <thead>\n",
       "    <tr style=\"text-align: right;\">\n",
       "      <th></th>\n",
       "      <th>question</th>\n",
       "      <th>answer</th>\n",
       "    </tr>\n",
       "  </thead>\n",
       "  <tbody>\n",
       "    <tr>\n",
       "      <th>0</th>\n",
       "      <td>Can I get COVID-19 from animals when travellin...</td>\n",
       "      <td>Although the current spread and growth of the ...</td>\n",
       "    </tr>\n",
       "    <tr>\n",
       "      <th>1</th>\n",
       "      <td>How can I protect myself and others?</td>\n",
       "      <td>The best way to prevent illness from COVID-19 ...</td>\n",
       "    </tr>\n",
       "    <tr>\n",
       "      <th>2</th>\n",
       "      <td>Where did COVID-19 come from?</td>\n",
       "      <td>It was first found in Wuhan City, Hubei Provin...</td>\n",
       "    </tr>\n",
       "    <tr>\n",
       "      <th>3</th>\n",
       "      <td>Can my pet or other animals get sick from COVI...</td>\n",
       "      <td>There is currently no evidence to suggest that...</td>\n",
       "    </tr>\n",
       "    <tr>\n",
       "      <th>4</th>\n",
       "      <td>How can I protect my child from COVID-19?</td>\n",
       "      <td>By having them practice the same things you ha...</td>\n",
       "    </tr>\n",
       "  </tbody>\n",
       "</table>\n",
       "</div>"
      ],
      "text/plain": [
       "                                            question  \\\n",
       "0  Can I get COVID-19 from animals when travellin...   \n",
       "1               How can I protect myself and others?   \n",
       "2                      Where did COVID-19 come from?   \n",
       "3  Can my pet or other animals get sick from COVI...   \n",
       "4          How can I protect my child from COVID-19?   \n",
       "\n",
       "                                              answer  \n",
       "0  Although the current spread and growth of the ...  \n",
       "1  The best way to prevent illness from COVID-19 ...  \n",
       "2  It was first found in Wuhan City, Hubei Provin...  \n",
       "3  There is currently no evidence to suggest that...  \n",
       "4  By having them practice the same things you ha...  "
      ]
     },
     "execution_count": 1,
     "metadata": {},
     "output_type": "execute_result"
    }
   ],
   "source": [
    "import pandas as pd\n",
    "import numpy as np\n",
    "\n",
    "data = pd.read_csv('covid_qa.csv')\n",
    "data.head(5)"
   ]
  },
  {
   "cell_type": "code",
   "execution_count": 2,
   "metadata": {},
   "outputs": [],
   "source": [
    "import nltk\n",
    "import spacy\n",
    "\n",
    "from sklearn.metrics import pairwise_distances\n",
    "from sklearn.preprocessing import normalize\n",
    "\n",
    "from matplotlib import pyplot as plt"
   ]
  },
  {
   "cell_type": "code",
   "execution_count": 4,
   "metadata": {},
   "outputs": [],
   "source": [
    "nlp = spacy.load('en')"
   ]
  },
  {
   "cell_type": "code",
   "execution_count": 46,
   "metadata": {},
   "outputs": [],
   "source": [
    "def tokenize(doc, lemmatized=True, stopword=True, punctuation=True):\n",
    "    \n",
    "    tokens=[]\n",
    "    \n",
    "    d = nlp(doc)\n",
    "    for token in d:\n",
    "        keep = True\n",
    "        t = token.text\n",
    "        if lemmatized:\n",
    "            t = token.lemma_\n",
    "        if not stopword and token.is_stop:\n",
    "            keep = False\n",
    "        if not punctuation and token.is_punct:\n",
    "            keep = False\n",
    "        if keep and t.strip()!='':\n",
    "            tokens.append(t.lower())\n",
    "    return tokens"
   ]
  },
  {
   "cell_type": "code",
   "execution_count": 58,
   "metadata": {},
   "outputs": [],
   "source": [
    "def compute_tfidf(docs, lemmatized=True, stopword=True, punctuation=True):\n",
    "     \n",
    "    doc_tokens = {idx:nltk.FreqDist(tokenize(doc,lemmatized,stopword,punctuation)) for idx, doc in enumerate(docs)}\n",
    "    \n",
    "    dtm = pd.DataFrame.from_dict(doc_tokens,orient='index')\n",
    "    dtm = dtm.sort_index(axis=0)\n",
    "    dtm = dtm.fillna(0)\n",
    "    \n",
    "    words = dtm.columns.tolist()\n",
    "    \n",
    "    tf = dtm.values\n",
    "    doc_len = tf.sum(axis=1)\n",
    "    tf = np.divide(tf, doc_len[:,None])\n",
    "    \n",
    "    df = np.sum(np.where(tf>0,1,0),axis=0)\n",
    "    \n",
    "    smoothed_idf = np.log(np.divide(len(doc)+1,df+1))+1\n",
    "    \n",
    "    tf_idf = normalize(tf*smoothed_idf)\n",
    "    \n",
    "    smoothed_tf_idf = normalize(tf*smoothed_idf)\n",
    "    \n",
    "    return smoothed_tf_idf, smoothed_idf, words "
   ]
  },
  {
   "cell_type": "code",
   "execution_count": 60,
   "metadata": {},
   "outputs": [],
   "source": [
    "def vectorize_doc(doc, words, idf, lemmatized=True, stopword=True, punctuation=True):\n",
    "    \n",
    "    doc_tokens=nltk.FreqDist(tokenize(doc,lemmatized,stopword,punctuation))\n",
    "    \n",
    "    vect = np.array([doc_tokens[w] if w in doc_tokens else 0 for w in words])\n",
    "    vect = vect/np.sum(vect)\n",
    "    vect = vect*idf\n",
    "    vect = vect/np.sqrt(np.sum(np.square(vect)))\n",
    "    \n",
    "    return vect"
   ]
  },
  {
   "cell_type": "code",
   "execution_count": 62,
   "metadata": {},
   "outputs": [],
   "source": [
    "def find_answer(doc_vect, tf_idf, docs):\n",
    "    \n",
    "    sim = np.sum(doc_vect*tf_idf,axis=1)\n",
    "    top_index = sim.argsort()[::-1][0:3]\n",
    "    top_docs = docs[top_index]\n",
    "    \n",
    "    return top_docs"
   ]
  },
  {
   "cell_type": "code",
   "execution_count": 64,
   "metadata": {},
   "outputs": [
    {
     "name": "stdout",
     "output_type": "stream",
     "text": [
      "Are symptoms of COVID-19 different in children? No. They have the same symptoms, though it may be milder in children. Reported symptoms include cold-like symptoms, such as fever, runny nose, and cough. Vomiting and diarrhea have also been reported. There is more to be learned about how COVID-19 affects children. \n",
      "\n",
      "What are the symptoms of COVID-19? Reported illnesses have ranged from mild symptoms to severe illness and death from confirmed COVID-19 cases. Confirmed means that these people were tested positive for COVID-19. These are the symptoms that can appear 2 to 14 days after exposure: fever, cough, shortness of breath, pneumonia in both lungs. Those who are infected with COVID-19 may also have little to no symptoms.   However, if you're experiencing difficulty breathing or shortness of breath, persistent pain or pressure in the chest, new confusion or inability to arouse, and/or bluish lips or face - please seek medical attention immediately. This is not an all inclusive list - if you are experiencing symptoms that are severe or concerning, talk to your medical provider. \n",
      "\n",
      "It would be great to hear more about the symptoms. Cough and difficulty breathing isn’t too specific (especially during allergy season!). The most common symptoms are fever, tiredness and dry cough. Some people exprience nasal congestion, aches and pains, runny nose, sore throat, and diarrhea. Most symptoms usually begin mild and slowly. Some people don't even show symptoms despite being infected with COVID19, and generally continue to feel well. \n",
      "\n"
     ]
    }
   ],
   "source": [
    "if __name__ == \"__main__\":\n",
    "    \n",
    "    data = pd.read_csv(\"covid_qa.csv\")\n",
    "    docs = data.apply(lambda x: x[\"question\"] + \" \" + x[\"answer\"], axis=1)\n",
    "    \n",
    "    tf_idf, idf, words = compute_tfidf(docs, lemmatized=True, stopword=True, punctuation=False)\n",
    "    \n",
    "    #Try Questions here\n",
    "    doc = \"what is the symptom?\"\n",
    "    vect = vectorize_doc(doc, words, idf, lemmatized=True, stopword=True, punctuation=False)\n",
    "    \n",
    "    answers = find_answer(vect, tf_idf, docs)\n",
    "    for a in answers:\n",
    "        print(a, \"\\n\")"
   ]
  },
  {
   "cell_type": "code",
   "execution_count": null,
   "metadata": {},
   "outputs": [],
   "source": []
  }
 ],
 "metadata": {
  "kernelspec": {
   "display_name": "Python 3",
   "language": "python",
   "name": "python3"
  },
  "language_info": {
   "codemirror_mode": {
    "name": "ipython",
    "version": 3
   },
   "file_extension": ".py",
   "mimetype": "text/x-python",
   "name": "python",
   "nbconvert_exporter": "python",
   "pygments_lexer": "ipython3",
   "version": "3.8.3"
  }
 },
 "nbformat": 4,
 "nbformat_minor": 4
}
